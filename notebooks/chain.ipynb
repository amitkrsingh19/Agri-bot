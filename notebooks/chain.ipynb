{
 "cells": [
  {
   "cell_type": "markdown",
   "id": "ca65ce6b",
   "metadata": {},
   "source": [
    "## rag chain"
   ]
  },
  {
   "cell_type": "code",
   "execution_count": 105,
   "id": "bd6a705e",
   "metadata": {},
   "outputs": [],
   "source": [
    "import os\n",
    "os.environ['user_agent']='dd'"
   ]
  },
  {
   "cell_type": "code",
   "execution_count": 166,
   "id": "65cd0fb6",
   "metadata": {},
   "outputs": [],
   "source": [
    "import os\n",
    "import getpass\n",
    "\n",
    "# Set your API keys and endpoint\n",
    "os.environ[\"LANGSMITH_TRACING\"] = \"true\"\n",
    "os.environ[\"LANGSMITH_ENDPOINT\"] = \"https://api.smith.langchain.com\"\n",
    "os.environ[\"LANGSMITH_PROJECT\"] = \"farming-bot\"\n",
    "\n",
    "# It's a good practice to use getpass for sensitive information\n",
    "os.environ[\"LANGSMITH_API_KEY\"] = getpass.getpass(\"Enter your LangSmith API key: \")"
   ]
  },
  {
   "cell_type": "code",
   "execution_count": 144,
   "id": "a4d798bb",
   "metadata": {},
   "outputs": [],
   "source": [
    "import bs4\n",
    "from langchain_ollama.llms import OllamaLLM\n",
    "from bs4.filter import SoupStrainer\n",
    "from langchain.document_loaders import WebBaseLoader\n",
    "from langchain.prompts import PromptTemplate\n",
    "from langchain.text_splitter import RecursiveCharacterTextSplitter\n",
    "from langchain.vectorstores import Chroma\n",
    "from langchain_huggingface import HuggingFaceEmbeddings\n",
    "from langchain_core.output_parsers import StrOutputParser\n",
    "from langchain_core.runnables import RunnablePassthrough"
   ]
  },
  {
   "cell_type": "markdown",
   "id": "f42ab6b3",
   "metadata": {},
   "source": [
    "### Steps\n",
    "- Load Documents\n",
    "- Split Doucments\n",
    "- Embed Doucment\n",
    "- Store vectors"
   ]
  },
  {
   "cell_type": "code",
   "execution_count": 145,
   "id": "05769c71",
   "metadata": {},
   "outputs": [],
   "source": [
    "# Load Documents\n",
    "bs4_strainer = SoupStrainer(\"div\",class_=(\"india-adda-Blog common-section\",\"blogsContent\"))\n",
    "loader = WebBaseLoader(\"https://ibef.org/blogs/india-s-journey-towards-sustainable-low-carbon-farming\",requests_per_second=3,\n",
    "                       encoding=\"utf-8\",bs_kwargs={\"parse_only\":bs4_strainer})\n",
    "docs = loader.load()"
   ]
  },
  {
   "cell_type": "code",
   "execution_count": 146,
   "id": "b16d1479",
   "metadata": {},
   "outputs": [
    {
     "data": {
      "text/plain": [
       "[Document(metadata={'source': 'https://ibef.org/blogs/india-s-journey-towards-sustainable-low-carbon-farming'}, page_content=\"\\n\\nIndia’s Journey Towards Sustainable, Low-Carbon Farming\\n\\n\\n\\n\\n\\n Sep 05, 2025, 23:55\\n Agriculture\\n IBEF\\n\\n\\nAgriculture in India has always been more than just a sector—it is the soul of the nation’s economy. Feeding more than a billion people, providing livelihood for almost 46% of the workforce and contributing 16% (FY24) to the Gross Domestic Product (GDP), this industry has long been the backbone of India’s rural economy and national resilience. Today, this sector is rapidly emerging as a significant climate force, whether for better or worse.\\nThe voluntary carbon market in India was estimated to be worth over Rs. 10,201 crores (US$ 1.2 billion), as of May 2023, with 1,451 projects either registered or undergoing various stages of consideration through two leading global registries, Verra and Gold Standard. India roughly comprises about 20% of the carbon credits in the world based on a 2023 report from the Delhi-based think tank, Centre for Science and Environment (CSE). More than Rs. 5,525.65 crore (US$ 650 million) has been earned in revenues by the carbon credits. Thus, one can see that the country stands pivotal in the global carbon offset ecosystem and has a growing thrust on climate-conscious development.\\nWhat does ‘low-carbon agriculture’ mean?\\nLow-carbon agriculture actively minimises its contribution to global warming by reducing emissions. A low-carbon footprint for agriculture means low emissions of\\u2002carbon dioxide (CO2) and other greenhouse gases due to all types of agricultural activities, such as fuel and other farm inputs, emissions from the field, livestock processes, etc. In broad terms, it means smart farming: implementing methods that minimise energy consumption and waste and improve the efficiency of every production stage.\\nWhy it matters for India’s future?\\nIndia's agricultural sector, which is currently struggling with climate change and food security issues, will\\u2002be the forerunner of the country's future. With agriculture playing an active part with\\u2002approximately 13–14% of total greenhouse gas (GHG) emissions of the country, it has become inevitable to adopt low-carbon pathways. These carbon emission reductions would not only help India achieve its national climate\\u2002targets and a sustainable economy but secure the livelihoods of millions of farmers.\\nHow farming activities contribute to carbon emissions?\\nFarming is essential for our food supply, but it simultaneously releases GHG emissions from several commonly adopted agricultural practices, contributing to global warming. Here are a few examples of how agriculture causes these emissions:\\n\\nGlobal greenhouse gas emissions – An overview\\nGlobal trends (1970–2023)\\nThe combined GHG emissions of the EU27 and the world’s top five emitting countries—China, the United States, India, Russia, and Brazil—have seen notable shifts over the past five decades.\\n\\nSource: Joint Research Centre (JRC), the European Commission’s science and knowledge service\\nSince 1990, global fossil CO₂ emissions have risen by over 72.1%, while CH₄ and N₂O emissions have increased by 28.2% and 32.4%, respectively. Fluorinated gases (F-gases) have seen the most dramatic rise, increasing nearly four-fold (+294%).\\nIndia’s emissions profile\\nIndia’s GHG emissions grew by 6.1% from 2022 to 2023, adding an extra 0.24 gigatons of CO₂ equivalent (GtCO₂e) to total emissions. Over the past 30 years, emissions in India have nearly tripled, largely due to fast growth in:\\n\\nPower generation\\nIndustrial processes\\nTransport sector\\n\\nIn 2023, India’s emissions breakdown was:\\n\\nCO₂: 71.5%\\nCH₄: 20.3%\\nN₂O: 6.5%\\nF-gases: 1.7%\\n\\nIndia contributed about 7.8% of total global emissions in 2023, making it the third-largest emitter after China and the US.\\n\\nSource: Joint Research Centre (JRC), the European Commission’s science and knowledge service\\nHowever, on a per capita basis, India’s emissions were significantly lower:\\n\\n2.9 tCO₂e/person, which is:\\r\\n\\t\\n6x lower than the US and Russia\\n4x lower than China\\n3x lower than the EU27\\n2x lower than Brazil\\n\\n\\n\\nWhere do agricultural emissions come from? A state-wise snapshot\\nHere’s a look at which states lead the pack when it comes to emissions—and why that matters.\\nRice cultivation: A key methane contributor\\nMethane emissions from rice farming, particularly under conventional practices where\\u2002fields are flooded, is among the biggest sources of methane emissions. India alone emitted around 144 MtCO₂e through rice cultivation over 2022–23.\\n\\nTop Three Emitting States in Volume: Uttar Pradesh, Punjab and West Bengal (each with over 15,000 Gg of emissions).\\nMaximum Emissions (Per\\u2002Hectare): Emissions in Punjab and Haryana top the per hectare list, mainly due to high fertiliser consumption and residue burning.\\nIn states such as West Bengal and Assam, the type of rice that is cultivated (namely deepwater or rainfed varieties) makes methane emissions per hectare even more pronounced.\\n\\nElectricity use in agriculture\\nElectric energy used for irrigation and farm activities contributes significant amounts of carbon emissions, particularly when it is sourced from fossil fuels.\\n\\nOver 2022-23, the agricultural sector contributed about 179 MtCO2e emissions via the use of electricity.\\nMaharashtra and Rajasthan had the highest emissions\\u2002overall.\\nTelangana, Andhra Pradesh and Tamil Nadu had higher per hectare emissions than other states as\\u2002they depend heavily on irrigation, which consumes significant electricity.\\n\\nFertiliser and soil emissions\\nExcessive fertiliser not just damages the soil, it emits\\u2002nitrous oxide (N₂O)—a gas almost 300 times more potent in global warming than carbon dioxide.\\n\\nThe largest total N₂O\\u2002emissions came from Uttar Pradesh, Madhya Pradesh and Maharashtra.\\nHowever, Punjab, Andhra Pradesh and Bihar\\u2002used the highest amounts of fertilisers in aggregate per hectare.\\n\\nWhy these differences matter?\\nThese ‘emission snapshots’ are crucial. They show us where the environmental impact is the highest—\\n\\nand help design state-specific solutions. For example:\\n\\xa0\\nHow are farmers leading the shift to climate-friendly agriculture?\\nLet’s look at some of the most impactful changes on the ground.\\n\\nIndia’s push toward low-carbon agriculture: Key initiatives\\nIndia is actively transitioning towards climate-smart agriculture through ambitious policies, carbon markets and incentive-based frameworks:\\n\\nUnder its updated Nationally Determined Contributions (NDCs), India will commit itself to reducing GHG emissions intensity by 45% from the 2005 level by 2030.\\nAn Indian Carbon Market (ICM) is being formally established, which is inclusive of digital platforms for carbon credit tracking and trading, allowing farmers and businesses to capitalise on emission reduction.\\nA national carbon credit framework (Carbon Credit Trading Scheme (CCTS)) is being set up to promote emission-reducing activities for the larger goal of climate reduction. This could facilitate the monetisation of about US$ 480 billion worth of carbon credits between 2030 and 2070.\\nIndia is probing opportunities for carbon credit generation in agriculture (Voluntary Carbon Market (VCM)), by increasing Soil Organic Carbon (SOC) through sustainable practices such as agroforestry and plantation forestry. These practices help improve soil health while storing carbon.\\nLivestock emissions (especially Methane (CH₄) from enteric fermentation) will be dealt with through diet-related preventive measures and technical innovations to restrict methane production.\\nAs a major source of CH₄ and N₂O, rice fields are targeted through eco-friendly techniques like alternate wetting and drying (AWD) and direct seeding, which reduce emissions and generate carbon credits.\\nThe Green Credit Programme (GCP) was launched at the COP28 under India’s Lifestyle for Environment (LIFE) movement. This initiative rewards positive environmental actions (like tree plantation, sustainable farming, water and waste management) through Green Credits.\\r\\n\\t\\nGCP is separate from the carbon market and is managed by the Indian Council of Forestry Research and Education (ICFRE) with a digital GC registry ensuring transparency.\\n\\n\\n\\nConclusion\\nIndia\\u2002is at the intersection of tradition and transformation. India—today the world’s most populous nation with a rich agricultural tradition—is reimagining its growth narrative, one that places sustainability, innovation and climate action at its core. Low-carbon agriculture is not a concept for the distant future, it is a national imperative. From wiser rice farming to cleaner livestock management, Indian farmers\\u2002are showing how environmental stewardship and economic growth are possible simultaneously.\\nWith bold policy frameworks, a burgeoning carbon market\\u2002and grassroot innovation, India is doing more than just adjusting to the climate challenge. It is making this challenge a pathway to future opportunities. Grounding its message on its\\u2002farmers' shoulders and a green future, India is now poised to rally the world to climate-smart agriculture. What we\\u2002plant in our fields today will help us build a resilient, self-reliant and climate-ready Bharat of tomorrow.\\n\\n\")]"
      ]
     },
     "execution_count": 146,
     "metadata": {},
     "output_type": "execute_result"
    }
   ],
   "source": [
    "docs"
   ]
  },
  {
   "cell_type": "code",
   "execution_count": 147,
   "id": "a0f70800",
   "metadata": {},
   "outputs": [],
   "source": [
    "#split Documents\n",
    "text_splitter = RecursiveCharacterTextSplitter(chunk_size=1000,chunk_overlap=200)\n",
    "all_splits=text_splitter.split_documents(docs)"
   ]
  },
  {
   "cell_type": "code",
   "execution_count": 148,
   "id": "77a5e818",
   "metadata": {},
   "outputs": [
    {
     "data": {
      "text/plain": [
       "[Document(metadata={'source': 'https://ibef.org/blogs/india-s-journey-towards-sustainable-low-carbon-farming'}, page_content='India’s Journey Towards Sustainable, Low-Carbon Farming\\n\\n\\n\\n\\n\\n Sep 05, 2025, 23:55\\n Agriculture\\n IBEF'),\n",
       " Document(metadata={'source': 'https://ibef.org/blogs/india-s-journey-towards-sustainable-low-carbon-farming'}, page_content='Agriculture in India has always been more than just a sector—it is the soul of the nation’s economy. Feeding more than a billion people, providing livelihood for almost 46% of the workforce and contributing 16% (FY24) to the Gross Domestic Product (GDP), this industry has long been the backbone of India’s rural economy and national resilience. Today, this sector is rapidly emerging as a significant climate force, whether for better or worse.'),\n",
       " Document(metadata={'source': 'https://ibef.org/blogs/india-s-journey-towards-sustainable-low-carbon-farming'}, page_content='The voluntary carbon market in India was estimated to be worth over Rs. 10,201 crores (US$ 1.2 billion), as of May 2023, with 1,451 projects either registered or undergoing various stages of consideration through two leading global registries, Verra and Gold Standard. India roughly comprises about 20% of the carbon credits in the world based on a 2023 report from the Delhi-based think tank, Centre for Science and Environment (CSE). More than Rs. 5,525.65 crore (US$ 650 million) has been earned in revenues by the carbon credits. Thus, one can see that the country stands pivotal in the global carbon offset ecosystem and has a growing thrust on climate-conscious development.\\nWhat does ‘low-carbon agriculture’ mean?'),\n",
       " Document(metadata={'source': 'https://ibef.org/blogs/india-s-journey-towards-sustainable-low-carbon-farming'}, page_content='What does ‘low-carbon agriculture’ mean?\\nLow-carbon agriculture actively minimises its contribution to global warming by reducing emissions. A low-carbon footprint for agriculture means low emissions of\\u2002carbon dioxide (CO2) and other greenhouse gases due to all types of agricultural activities, such as fuel and other farm inputs, emissions from the field, livestock processes, etc. In broad terms, it means smart farming: implementing methods that minimise energy consumption and waste and improve the efficiency of every production stage.\\nWhy it matters for India’s future?'),\n",
       " Document(metadata={'source': 'https://ibef.org/blogs/india-s-journey-towards-sustainable-low-carbon-farming'}, page_content=\"Why it matters for India’s future?\\nIndia's agricultural sector, which is currently struggling with climate change and food security issues, will\\u2002be the forerunner of the country's future. With agriculture playing an active part with\\u2002approximately 13–14% of total greenhouse gas (GHG) emissions of the country, it has become inevitable to adopt low-carbon pathways. These carbon emission reductions would not only help India achieve its national climate\\u2002targets and a sustainable economy but secure the livelihoods of millions of farmers.\\nHow farming activities contribute to carbon emissions?\\nFarming is essential for our food supply, but it simultaneously releases GHG emissions from several commonly adopted agricultural practices, contributing to global warming. Here are a few examples of how agriculture causes these emissions:\"),\n",
       " Document(metadata={'source': 'https://ibef.org/blogs/india-s-journey-towards-sustainable-low-carbon-farming'}, page_content='Global greenhouse gas emissions – An overview\\nGlobal trends (1970–2023)\\nThe combined GHG emissions of the EU27 and the world’s top five emitting countries—China, the United States, India, Russia, and Brazil—have seen notable shifts over the past five decades.\\n\\nSource: Joint Research Centre (JRC), the European Commission’s science and knowledge service\\nSince 1990, global fossil CO₂ emissions have risen by over 72.1%, while CH₄ and N₂O emissions have increased by 28.2% and 32.4%, respectively. Fluorinated gases (F-gases) have seen the most dramatic rise, increasing nearly four-fold (+294%).\\nIndia’s emissions profile\\nIndia’s GHG emissions grew by 6.1% from 2022 to 2023, adding an extra 0.24 gigatons of CO₂ equivalent (GtCO₂e) to total emissions. Over the past 30 years, emissions in India have nearly tripled, largely due to fast growth in:\\n\\nPower generation\\nIndustrial processes\\nTransport sector\\n\\nIn 2023, India’s emissions breakdown was:\\n\\nCO₂: 71.5%\\nCH₄: 20.3%\\nN₂O: 6.5%\\nF-gases: 1.7%'),\n",
       " Document(metadata={'source': 'https://ibef.org/blogs/india-s-journey-towards-sustainable-low-carbon-farming'}, page_content='Power generation\\nIndustrial processes\\nTransport sector\\n\\nIn 2023, India’s emissions breakdown was:\\n\\nCO₂: 71.5%\\nCH₄: 20.3%\\nN₂O: 6.5%\\nF-gases: 1.7%\\n\\nIndia contributed about 7.8% of total global emissions in 2023, making it the third-largest emitter after China and the US.\\n\\nSource: Joint Research Centre (JRC), the European Commission’s science and knowledge service\\nHowever, on a per capita basis, India’s emissions were significantly lower:\\n\\n2.9 tCO₂e/person, which is:\\r\\n\\t\\n6x lower than the US and Russia\\n4x lower than China\\n3x lower than the EU27\\n2x lower than Brazil'),\n",
       " Document(metadata={'source': 'https://ibef.org/blogs/india-s-journey-towards-sustainable-low-carbon-farming'}, page_content='2.9 tCO₂e/person, which is:\\r\\n\\t\\n6x lower than the US and Russia\\n4x lower than China\\n3x lower than the EU27\\n2x lower than Brazil\\n\\n\\n\\nWhere do agricultural emissions come from? A state-wise snapshot\\nHere’s a look at which states lead the pack when it comes to emissions—and why that matters.\\nRice cultivation: A key methane contributor\\nMethane emissions from rice farming, particularly under conventional practices where\\u2002fields are flooded, is among the biggest sources of methane emissions. India alone emitted around 144 MtCO₂e through rice cultivation over 2022–23.'),\n",
       " Document(metadata={'source': 'https://ibef.org/blogs/india-s-journey-towards-sustainable-low-carbon-farming'}, page_content='Top Three Emitting States in Volume: Uttar Pradesh, Punjab and West Bengal (each with over 15,000 Gg of emissions).\\nMaximum Emissions (Per\\u2002Hectare): Emissions in Punjab and Haryana top the per hectare list, mainly due to high fertiliser consumption and residue burning.\\nIn states such as West Bengal and Assam, the type of rice that is cultivated (namely deepwater or rainfed varieties) makes methane emissions per hectare even more pronounced.\\n\\nElectricity use in agriculture\\nElectric energy used for irrigation and farm activities contributes significant amounts of carbon emissions, particularly when it is sourced from fossil fuels.\\n\\nOver 2022-23, the agricultural sector contributed about 179 MtCO2e emissions via the use of electricity.\\nMaharashtra and Rajasthan had the highest emissions\\u2002overall.\\nTelangana, Andhra Pradesh and Tamil Nadu had higher per hectare emissions than other states as\\u2002they depend heavily on irrigation, which consumes significant electricity.'),\n",
       " Document(metadata={'source': 'https://ibef.org/blogs/india-s-journey-towards-sustainable-low-carbon-farming'}, page_content='Fertiliser and soil emissions\\nExcessive fertiliser not just damages the soil, it emits\\u2002nitrous oxide (N₂O)—a gas almost 300 times more potent in global warming than carbon dioxide.\\n\\nThe largest total N₂O\\u2002emissions came from Uttar Pradesh, Madhya Pradesh and Maharashtra.\\nHowever, Punjab, Andhra Pradesh and Bihar\\u2002used the highest amounts of fertilisers in aggregate per hectare.\\n\\nWhy these differences matter?\\nThese ‘emission snapshots’ are crucial. They show us where the environmental impact is the highest—\\n\\nand help design state-specific solutions. For example:\\n\\xa0\\nHow are farmers leading the shift to climate-friendly agriculture?\\nLet’s look at some of the most impactful changes on the ground.\\n\\nIndia’s push toward low-carbon agriculture: Key initiatives\\nIndia is actively transitioning towards climate-smart agriculture through ambitious policies, carbon markets and incentive-based frameworks:'),\n",
       " Document(metadata={'source': 'https://ibef.org/blogs/india-s-journey-towards-sustainable-low-carbon-farming'}, page_content='Under its updated Nationally Determined Contributions (NDCs), India will commit itself to reducing GHG emissions intensity by 45% from the 2005 level by 2030.\\nAn Indian Carbon Market (ICM) is being formally established, which is inclusive of digital platforms for carbon credit tracking and trading, allowing farmers and businesses to capitalise on emission reduction.\\nA national carbon credit framework (Carbon Credit Trading Scheme (CCTS)) is being set up to promote emission-reducing activities for the larger goal of climate reduction. This could facilitate the monetisation of about US$ 480 billion worth of carbon credits between 2030 and 2070.\\nIndia is probing opportunities for carbon credit generation in agriculture (Voluntary Carbon Market (VCM)), by increasing Soil Organic Carbon (SOC) through sustainable practices such as agroforestry and plantation forestry. These practices help improve soil health while storing carbon.'),\n",
       " Document(metadata={'source': 'https://ibef.org/blogs/india-s-journey-towards-sustainable-low-carbon-farming'}, page_content='Livestock emissions (especially Methane (CH₄) from enteric fermentation) will be dealt with through diet-related preventive measures and technical innovations to restrict methane production.\\nAs a major source of CH₄ and N₂O, rice fields are targeted through eco-friendly techniques like alternate wetting and drying (AWD) and direct seeding, which reduce emissions and generate carbon credits.\\nThe Green Credit Programme (GCP) was launched at the COP28 under India’s Lifestyle for Environment (LIFE) movement. This initiative rewards positive environmental actions (like tree plantation, sustainable farming, water and waste management) through Green Credits.\\r\\n\\t\\nGCP is separate from the carbon market and is managed by the Indian Council of Forestry Research and Education (ICFRE) with a digital GC registry ensuring transparency.'),\n",
       " Document(metadata={'source': 'https://ibef.org/blogs/india-s-journey-towards-sustainable-low-carbon-farming'}, page_content=\"Conclusion\\nIndia\\u2002is at the intersection of tradition and transformation. India—today the world’s most populous nation with a rich agricultural tradition—is reimagining its growth narrative, one that places sustainability, innovation and climate action at its core. Low-carbon agriculture is not a concept for the distant future, it is a national imperative. From wiser rice farming to cleaner livestock management, Indian farmers\\u2002are showing how environmental stewardship and economic growth are possible simultaneously.\\nWith bold policy frameworks, a burgeoning carbon market\\u2002and grassroot innovation, India is doing more than just adjusting to the climate challenge. It is making this challenge a pathway to future opportunities. Grounding its message on its\\u2002farmers' shoulders and a green future, India is now poised to rally the world to climate-smart agriculture. What we\\u2002plant in our fields today will help us build a resilient, self-reliant and climate-ready Bharat of tomorrow.\")]"
      ]
     },
     "execution_count": 148,
     "metadata": {},
     "output_type": "execute_result"
    }
   ],
   "source": [
    "all_splits"
   ]
  },
  {
   "cell_type": "markdown",
   "id": "961659dd",
   "metadata": {},
   "source": [
    "### all-MiniLM-L6-v2: This is a very popular choice due to its excellent balance of performance and efficiency. It is a small, fast model that generates 384-dimensional embeddings, making it ideal for applications with low latency requirements or limited resources"
   ]
  },
  {
   "cell_type": "code",
   "execution_count": 149,
   "id": "dd44801f",
   "metadata": {},
   "outputs": [],
   "source": [
    "# Embed Chunks using huggingfaceEmbeddings\n",
    "model=\"all-MiniLM-L6-v2\"\n",
    "model_kwargs={\"device\":\"cpu\"}\n",
    "encode_kwargs={\"normalize_embedding\":True}\n",
    "hf = HuggingFaceEmbeddings(model=model,\n",
    "                           model_kwargs=model_kwargs,\n",
    "                           encode_kwargs=encode_kwargs)\n",
    "# create a vector store\n",
    "vectorstore = Chroma.from_documents(documents=all_splits,embedding=hf)"
   ]
  },
  {
   "cell_type": "markdown",
   "id": "cca6ba14",
   "metadata": {},
   "source": [
    "## Generation & Retriever"
   ]
  },
  {
   "cell_type": "code",
   "execution_count": 150,
   "id": "08794bdc",
   "metadata": {},
   "outputs": [],
   "source": [
    "retriever = vectorstore.as_retriever(search_type=\"similarity\")"
   ]
  },
  {
   "cell_type": "markdown",
   "id": "7b446b77",
   "metadata": {},
   "source": [
    "### Ollama model: 3.2:3b"
   ]
  },
  {
   "cell_type": "code",
   "execution_count": 167,
   "id": "1f1e88ba",
   "metadata": {},
   "outputs": [],
   "source": [
    "llm = OllamaLLM(model=\"llama3.2:3b\",\n",
    "          temperature=0.7)"
   ]
  },
  {
   "cell_type": "markdown",
   "id": "8baf12e9",
   "metadata": {},
   "source": [
    "### fomrating doc function"
   ]
  },
  {
   "cell_type": "code",
   "execution_count": 152,
   "id": "ee987100",
   "metadata": {},
   "outputs": [],
   "source": [
    "def format_doc(doc):\n",
    "    return \"\\n\\n\".join(doc.page_content for doc in docs)"
   ]
  },
  {
   "cell_type": "markdown",
   "id": "75c37bc7",
   "metadata": {},
   "source": [
    "## Response & Evaluation"
   ]
  },
  {
   "cell_type": "code",
   "execution_count": 153,
   "id": "47e4683d",
   "metadata": {},
   "outputs": [],
   "source": [
    "from langchain.prompts import PromptTemplate"
   ]
  },
  {
   "cell_type": "code",
   "execution_count": 168,
   "id": "14489980",
   "metadata": {},
   "outputs": [
    {
     "data": {
      "text/plain": [
       "[Document(metadata={'source': 'https://ibef.org/blogs/india-s-journey-towards-sustainable-low-carbon-farming'}, page_content='What does ‘low-carbon agriculture’ mean?\\nLow-carbon agriculture actively minimises its contribution to global warming by reducing emissions. A low-carbon footprint for agriculture means low emissions of\\u2002carbon dioxide (CO2) and other greenhouse gases due to all types of agricultural activities, such as fuel and other farm inputs, emissions from the field, livestock processes, etc. In broad terms, it means smart farming: implementing methods that minimise energy consumption and waste and improve the efficiency of every production stage.\\nWhy it matters for India’s future?'),\n",
       " Document(metadata={'source': 'https://ibef.org/blogs/india-s-journey-towards-sustainable-low-carbon-farming'}, page_content='What does ‘low-carbon agriculture’ mean?\\nLow-carbon agriculture actively minimises its contribution to global warming by reducing emissions. A low-carbon footprint for agriculture means low emissions of\\u2002carbon dioxide (CO2) and other greenhouse gases due to all types of agricultural activities, such as fuel and other farm inputs, emissions from the field, livestock processes, etc. In broad terms, it means smart farming: implementing methods that minimise energy consumption and waste and improve the efficiency of every production stage.\\nWhy it matters for India’s future?'),\n",
       " Document(metadata={'source': 'https://ibef.org/blogs/india-s-journey-towards-sustainable-low-carbon-farming'}, page_content='What does ‘low-carbon agriculture’ mean?\\nLow-carbon agriculture actively minimises its contribution to global warming by reducing emissions. A low-carbon footprint for agriculture means low emissions of\\u2002carbon dioxide (CO2) and other greenhouse gases due to all types of agricultural activities, such as fuel and other farm inputs, emissions from the field, livestock processes, etc. In broad terms, it means smart farming: implementing methods that minimise energy consumption and waste and improve the efficiency of every production stage.\\nWhy it matters for India’s future?'),\n",
       " Document(metadata={'source': 'https://ibef.org/blogs/india-s-journey-towards-sustainable-low-carbon-farming'}, page_content='What does ‘low-carbon agriculture’ mean?\\nLow-carbon agriculture actively minimises its contribution to global warming by reducing emissions. A low-carbon footprint for agriculture means low emissions of\\u2002carbon dioxide (CO2) and other greenhouse gases due to all types of agricultural activities, such as fuel and other farm inputs, emissions from the field, livestock processes, etc. In broad terms, it means smart farming: implementing methods that minimise energy consumption and waste and improve the efficiency of every production stage.\\nWhy it matters for India’s future?')]"
      ]
     },
     "execution_count": 168,
     "metadata": {},
     "output_type": "execute_result"
    }
   ],
   "source": [
    "retriever.invoke(\"What does ‘low-carbon agriculture’ mean?\")"
   ]
  },
  {
   "cell_type": "code",
   "execution_count": 155,
   "id": "107c9a07",
   "metadata": {},
   "outputs": [],
   "source": [
    "from langchain import hub\n",
    "pull_prompt = hub.pull(\"rlm/rag-prompt\")"
   ]
  },
  {
   "cell_type": "code",
   "execution_count": 156,
   "id": "85faad2c",
   "metadata": {},
   "outputs": [
    {
     "data": {
      "text/plain": [
       "\"According to the context provided, 'low-carbon agriculture' means actively minimising its contribution to global warming by reducing emissions. It refers to a low-carbon footprint for agriculture, which means low emissions of carbon dioxide (CO2) and other greenhouse gases due to all types of agricultural activities. In essence, it means smart farming: implementing methods that minimise energy consumption and waste and improve the efficiency of every production stage.\""
      ]
     },
     "execution_count": 156,
     "metadata": {},
     "output_type": "execute_result"
    }
   ],
   "source": [
    "# user query\n",
    "query = \"What does ‘low-carbon agriculture’ mean?\"\n",
    "# embeding query\n",
    "embedding = hf.embed_query(query)\n",
    "\n",
    "# define a  prompt\n",
    "prompt_template = PromptTemplate.from_template(\n",
    "    \"Answer the question based only on the following context:\\n{context}\\n\\nQuestion: {question}\"\n",
    ")\n",
    "# Rag Pipeline\n",
    "rag_chain=(\n",
    "    {\"context\": retriever ,\"question\":RunnablePassthrough()}\n",
    "           | prompt_template\n",
    "           | llm\n",
    "           | StrOutputParser()\n",
    "           )\n",
    "response = rag_chain.invoke(query)\n",
    "\n",
    "response"
   ]
  },
  {
   "cell_type": "code",
   "execution_count": 157,
   "id": "0aa59198",
   "metadata": {},
   "outputs": [
    {
     "data": {
      "text/plain": [
       "\"According to the context provided, 'low-carbon agriculture' means actively minimising its contribution to global warming by reducing emissions. It refers to a low-carbon footprint for agriculture, which means low emissions of carbon dioxide (CO2) and other greenhouse gases due to all types of agricultural activities. In essence, it means smart farming: implementing methods that minimise energy consumption and waste and improve the efficiency of every production stage.\""
      ]
     },
     "execution_count": 157,
     "metadata": {},
     "output_type": "execute_result"
    }
   ],
   "source": [
    "response"
   ]
  },
  {
   "cell_type": "markdown",
   "id": "9c414e5c",
   "metadata": {},
   "source": [
    "Here is a simple flow chart:\n",
    "\n",
    "```mermaid\n",
    "graph TD;\n",
    "    A[User Question] --> B(Retrieve Documents);\n",
    "    B --> C{Context & Question};\n",
    "    C --> D[Prompt Engineering];\n",
    "    D --> E(LLM Inference);\n",
    "    E --> F[Generated Answer];\n",
    "```"
   ]
  },
  {
   "cell_type": "markdown",
   "id": "6dd19629",
   "metadata": {},
   "source": [
    "### Tool Callings"
   ]
  },
  {
   "cell_type": "code",
   "execution_count": 158,
   "id": "30598f7d",
   "metadata": {},
   "outputs": [
    {
     "name": "stdout",
     "output_type": "stream",
     "text": [
      "{'messages': [HumanMessage(content='what is the weather in kolkata', additional_kwargs={}, response_metadata={}, id='b740ba55-b0bd-48ac-90b9-309b801d0381'), AIMessage(content='', additional_kwargs={}, response_metadata={'model': 'llama3.2:3b', 'created_at': '2025-09-18T16:30:10.2129802Z', 'done': True, 'done_reason': 'stop', 'total_duration': 479710800, 'load_duration': 101521800, 'prompt_eval_count': 160, 'prompt_eval_duration': 17304500, 'eval_count': 18, 'eval_duration': 360195300, 'model_name': 'llama3.2:3b'}, id='run--8916431a-98b9-4a70-94a7-677e3930507c-0', tool_calls=[{'name': 'get_weather', 'args': {'city': 'kolkata'}, 'id': 'cd0b5b64-d612-49b9-9ea5-2ac47ca089b2', 'type': 'tool_call'}], usage_metadata={'input_tokens': 160, 'output_tokens': 18, 'total_tokens': 178}), ToolMessage(content=\"It's  always sunnyin kolkata!\", name='get_weather', id='0db77cc7-bcbf-4f3f-8d22-917cb0f65c38', tool_call_id='cd0b5b64-d612-49b9-9ea5-2ac47ca089b2'), AIMessage(content='The output from the tool call indicates that the current weather in Kolkata is sunny. Therefore, my answer to the original user question would be:\\n\\n\"It\\'s always sunny in Kolkata!\"', additional_kwargs={}, response_metadata={'model': 'llama3.2:3b', 'created_at': '2025-09-18T16:30:10.9595862Z', 'done': True, 'done_reason': 'stop', 'total_duration': 740488800, 'load_duration': 102507800, 'prompt_eval_count': 100, 'prompt_eval_duration': 13469600, 'eval_count': 36, 'eval_duration': 623510300, 'model_name': 'llama3.2:3b'}, id='run--fb04cf2c-5402-4e4b-a834-df9bb174a5ec-0', usage_metadata={'input_tokens': 100, 'output_tokens': 36, 'total_tokens': 136})]}\n"
     ]
    }
   ],
   "source": [
    "from langgraph.prebuilt import create_react_agent\n",
    "from langchain_ollama.chat_models import ChatOllama\n",
    "from langchain_core.tools import tool\n",
    "\n",
    "# 1. Define the tool with the @tool decorator\n",
    "@tool\n",
    "def get_weather(city: str) -> str:\n",
    "    \"\"\"Get the weather for a given city.\"\"\"\n",
    "    return f\"It's  always sunnyin {city}!\"\n",
    "\n",
    "# 2. Instantiate the ChatOllama model\n",
    "llm = ChatOllama(model=\"llama3.2:3b\")\n",
    "\n",
    "# 3. Create the agent with the chat model instance\n",
    "# The prompt is handled automatically by create_react_agent\n",
    "agent = create_react_agent(\n",
    "    model=llm,\n",
    "    tools=[get_weather]\n",
    ")\n",
    "\n",
    "# 4. Run the agent with a message\n",
    "result = agent.invoke(\n",
    "    {\"messages\": [{\"role\": \"user\", \"content\": \"what is the weather in kolkata\"}]})\n",
    "\n",
    "# 5. Print the result\n",
    "print(result)"
   ]
  },
  {
   "cell_type": "markdown",
   "id": "2195da17",
   "metadata": {},
   "source": [
    "## Indexing"
   ]
  },
  {
   "cell_type": "code",
   "execution_count": 159,
   "id": "3cda3c5f",
   "metadata": {},
   "outputs": [
    {
     "data": {
      "text/plain": [
       "10"
      ]
     },
     "execution_count": 159,
     "metadata": {},
     "output_type": "execute_result"
    }
   ],
   "source": [
    "import tiktoken\n",
    "query = \"What does ‘low-carbon agriculture’ mean??\"\n",
    "encoding_name=\"cl100k_base\"\n",
    "def num_token_from_string(question,encoding_name):\n",
    "    \"\"\"Return number of token in a text\"\"\"\n",
    "    encoding = tiktoken.get_encoding(encoding_name=encoding_name)\n",
    "    num_token = len(encoding.encode(question))\n",
    "    return num_token\n",
    "\n",
    "num_token_from_string(query,encoding_name)"
   ]
  },
  {
   "cell_type": "code",
   "execution_count": 160,
   "id": "01f5d735",
   "metadata": {},
   "outputs": [],
   "source": [
    "all_splits\n",
    "docs=[doc.page_content for doc in all_splits]\n",
    "    "
   ]
  },
  {
   "cell_type": "code",
   "execution_count": 161,
   "id": "78663450",
   "metadata": {},
   "outputs": [
    {
     "name": "stdout",
     "output_type": "stream",
     "text": [
      "384\n"
     ]
    }
   ],
   "source": [
    "from langchain_huggingface import HuggingFaceEmbeddings\n",
    "\n",
    "embd = HuggingFaceEmbeddings(model=\"all-MiniLM-L6-v2\")\n",
    "query_result = embd.embed_query(query)\n",
    "document_result = embd.embed_documents(docs)\n",
    "print(len(query_result))"
   ]
  },
  {
   "cell_type": "markdown",
   "id": "41a3ddbc",
   "metadata": {},
   "source": [
    "### Prompt Template"
   ]
  },
  {
   "cell_type": "code",
   "execution_count": null,
   "id": "43acb9b6",
   "metadata": {},
   "outputs": [
    {
     "data": {
      "text/plain": [
       "ChatPromptTemplate(input_variables=['context', 'question'], input_types={}, partial_variables={}, metadata={'lc_hub_owner': 'rlm', 'lc_hub_repo': 'rag-prompt', 'lc_hub_commit_hash': '50442af133e61576e74536c6556cefe1fac147cad032f4377b60c436e6cdcb6e'}, messages=[HumanMessagePromptTemplate(prompt=PromptTemplate(input_variables=['context', 'question'], input_types={}, partial_variables={}, template=\"You are an assistant for question-answering tasks. Use the following pieces of retrieved context to answer the question. If you don't know the answer, just say that you don't know. Use three sentences maximum and keep the answer concise.\\nQuestion: {question} \\nContext: {context} \\nAnswer:\"), additional_kwargs={})])"
      ]
     },
     "execution_count": 163,
     "metadata": {},
     "output_type": "execute_result"
    }
   ],
   "source": [
    "from langchain import hub\n",
    "pull_prompt = hub.pull(\"rlm/rag-prompt\")\n",
    "# Access the PromptTemplate object\n",
    "prompt_template = pull_prompt.messages[0].prompt\n",
    "\n",
    "# You can now use this object\n",
    "print(prompt_template.template)"
   ]
  },
  {
   "cell_type": "markdown",
   "id": "c589cfb2",
   "metadata": {},
   "source": [
    "## Cosine Similarity"
   ]
  },
  {
   "cell_type": "code",
   "execution_count": 164,
   "id": "05a24a09",
   "metadata": {},
   "outputs": [
    {
     "name": "stdout",
     "output_type": "stream",
     "text": [
      "cosine similarity: 0.650755651651142\n"
     ]
    }
   ],
   "source": [
    "import numpy as np\n",
    "\n",
    "def cosine_similarity(vec1,vec2):\n",
    "    vec2_flatten = np.array(vec2[0])\n",
    "    dot_product = np.dot(vec1,vec2_flatten)\n",
    "    norm_vec1 = np.linalg.norm(vec1)\n",
    "    norm_vec2 = np.linalg.norm(vec2_flatten)\n",
    "    return dot_product / (norm_vec1 * norm_vec2)\n",
    "\n",
    "similarity = cosine_similarity(query_result,document_result)\n",
    "print(f\"cosine similarity: {similarity}\")"
   ]
  }
 ],
 "metadata": {
  "kernelspec": {
   "display_name": "Python 3.10 (py310)",
   "language": "python",
   "name": "py310"
  },
  "language_info": {
   "codemirror_mode": {
    "name": "ipython",
    "version": 3
   },
   "file_extension": ".py",
   "mimetype": "text/x-python",
   "name": "python",
   "nbconvert_exporter": "python",
   "pygments_lexer": "ipython3",
   "version": "3.10.18"
  }
 },
 "nbformat": 4,
 "nbformat_minor": 5
}
