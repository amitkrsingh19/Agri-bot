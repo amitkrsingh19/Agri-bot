{
 "cells": [
  {
   "cell_type": "code",
   "execution_count": 2,
   "id": "0808d4cb",
   "metadata": {},
   "outputs": [],
   "source": [
    "import getpass\n",
    "import os\n",
    "\n",
    "try:\n",
    "    # load environment variables from .env file (requires `python-dotenv`)\n",
    "    from dotenv import load_dotenv\n",
    "\n",
    "    load_dotenv()\n",
    "except ImportError:\n",
    "    pass\n",
    "\n",
    "os.environ[\"LANGSMITH_TRACING\"] = \"true\"\n",
    "if \"LANGSMITH_API_KEY\" not in os.environ:\n",
    "    os.environ[\"LANGSMITH_API_KEY\"] = getpass.getpass(\n",
    "        prompt=\"Enter your LangSmith API key (optional): \"\n",
    "    )\n",
    "if \"LANGSMITH_PROJECT\" not in os.environ:\n",
    "    os.environ[\"LANGSMITH_PROJECT\"] = getpass.getpass(\n",
    "        prompt='Enter your LangSmith Project Name (default = \"default\"): '\n",
    "    )\n",
    "    if not os.environ.get(\"LANGSMITH_PROJECT\"):\n",
    "        os.environ[\"LANGSMITH_PROJECT\"] = \"default\""
   ]
  },
  {
   "cell_type": "markdown",
   "id": "399730bd",
   "metadata": {},
   "source": [
    "## loading llama3.2:3b"
   ]
  },
  {
   "cell_type": "code",
   "execution_count": 6,
   "id": "f9658c92",
   "metadata": {},
   "outputs": [
    {
     "data": {
      "text/plain": [
       "AIMessage(content=\"(Verse 1)\\nIn the realm of AI, where knowledge does reign\\nA new king arose, with power to sustain\\nLangChain, a name that's known so well\\nA framework born, from code that did dwell\\n\\nIt weaves together threads, of language and might\\nA bridge between tasks, where complexity takes flight\\nFrom question answering, to text generation too\\nLangChain's the tool, that makes it all come true\\n\\n(Chorus)\\nOh LangChain, oh LangChain, a hero of our time\\nWith its modular design, and flexibility that shines\\nYou help us build models, that can learn and grow\\nA bridge between tasks, where knowledge does flow\\n\\n(Verse 2)\\nIt's based on transformers, with attention so fine\\nProcessing sequences, in a language that's divine\\nFrom natural language processing, to computer vision as well\\nLangChain's the framework, that makes it all swell\\n\\nWith its API and plugins, developers can play\\nBuilding applications, that can learn and adapt each day\\nFrom chatbots to recommendation systems too\\nLangChain's the tool, that makes it all come true\\n\\n(Chorus)\\nOh LangChain, oh LangChain, a hero of our time\\nWith its modular design, and flexibility that shines\\nYou help us build models, that can learn and grow\\nA bridge between tasks, where knowledge does flow\\n\\n(Bridge)\\nIn the world of research, it's a dream come true\\nFor scientists and engineers, who want to break through\\nThe barriers of complexity, with LangChain by their side\\nThey can build and experiment, with ease and with pride\\n\\n(Verse 3)\\nSo here's to LangChain, a framework so grand\\nA tool for the future, in this AI land\\nMay it continue to evolve, and grow each day\\nHelping us build models, that can learn and find their way\\n\\n(Chorus)\\nOh LangChain, oh LangChain, a hero of our time\\nWith its modular design, and flexibility that shines\\nYou help us build models, that can learn and grow\\nA bridge between tasks, where knowledge does flow\", additional_kwargs={}, response_metadata={'model': 'llama3.2:3b', 'created_at': '2025-09-15T12:24:32.5856608Z', 'done': True, 'done_reason': 'stop', 'total_duration': 10504006900, 'load_duration': 2421773700, 'prompt_eval_count': 33, 'prompt_eval_duration': 210715700, 'eval_count': 435, 'eval_duration': 7864709400, 'model_name': 'llama3.2:3b'}, id='run--48994147-be34-4660-91bc-b0772646c426-0', usage_metadata={'input_tokens': 33, 'output_tokens': 435, 'total_tokens': 468})"
      ]
     },
     "execution_count": 6,
     "metadata": {},
     "output_type": "execute_result"
    }
   ],
   "source": [
    "from langchain_ollama import ChatOllama\n",
    "\n",
    "llm = ChatOllama(model=\"llama3.2:3b\")\n",
    "llm.invoke(\"sing a ballad of langchain.\")"
   ]
  },
  {
   "cell_type": "code",
   "execution_count": null,
   "id": "92e57eda",
   "metadata": {},
   "outputs": [
    {
     "data": {
      "text/plain": [
       "AIMessage(content=\"A farmer's query!\\n\\nAccording to the data available up to my knowledge cutoff of December 2023, here are some general guidelines on wheat crop rates in Kerala, India:\\n\\n**Wheat Crop Rate (Tonnes per Ha)**\\n\\n* In Kerala, the average wheat crop rate is around 1.5 to 2 tonnes per hectare (t/ha).\\n* However, the actual yield can vary depending on factors such as soil type, irrigation facilities, fertilizer usage, and pest management practices.\\n\\n**State Average Yield (Tonnes per Ha)**\\n\\n* As per the Agriculture Department of Kerala, the state average wheat yield for the 2020-21 season was around 1.64 tonnes/ha.\\n* In recent years, the average yield has been increasing due to improvements in agricultural practices and input usage.\\n\\n**Varietal Performance**\\n\\n* The popular wheat varieties in Kerala are KRH 165, KRH 166, and KRW 1.\\n* These varieties have shown good performance in terms of yield potential, with an average yield ranging from 2.0 to 2.5 tonnes/ha.\\n\\n**Regional Variations**\\n\\n* Wheat yields can vary across different regions in Kerala due to factors like climate, soil type, and topography.\\n* The highest wheat yields are typically recorded in the Western Ghats region, which includes districts like Idukki, Wayanad, and Kottayam.\\n\\nPlease note that these figures are subject to change based on various factors such as weather conditions, pest management practices, and input usage. It's always best to consult with local experts or the Agriculture Department of Kerala for more specific information tailored to your farm's requirements.\", additional_kwargs={}, response_metadata={'model': 'llama3.2:3b', 'created_at': '2025-09-15T12:51:57.424421Z', 'done': True, 'done_reason': 'stop', 'total_duration': 6587305100, 'load_duration': 111858100, 'prompt_eval_count': 48, 'prompt_eval_duration': 61587200, 'eval_count': 340, 'eval_duration': 6413274200, 'model_name': 'llama3.2:3b'}, id='run--7f61adef-8a5e-450a-a183-86551aa99ec2-0', usage_metadata={'input_tokens': 48, 'output_tokens': 340, 'total_tokens': 388})"
      ]
     },
     "execution_count": 10,
     "metadata": {},
     "output_type": "execute_result"
    }
   ],
   "source": [
    "from langchain_core.messages import HumanMessage, SystemMessage\n",
    "\n",
    "messages = [\n",
    "    SystemMessage(content=\"Behave like a farming assistance bot\"),\n",
    "    HumanMessage(content=\"i want to know wheat crop rate in kerela,india\"),\n",
    "]\n",
    "\n",
    "llm.invoke(messages)"
   ]
  },
  {
   "cell_type": "code",
   "execution_count": 14,
   "id": "ab4bc1e5",
   "metadata": {},
   "outputs": [
    {
     "name": "stdout",
     "output_type": "stream",
     "text": [
      "As of my knowledge cutoff in December 2023, I can provide you with some general information about the wheat crop rate in Kerala, India.\n",
      "\n",
      "**Wheat Crop Rate in Kerala:**\n",
      "\n",
      "* According to the Department of Agriculture, Cooperation and Farmers Welfare, Government of India, Kerala's wheat cultivation is mainly concentrated in the Western Ghats region, particularly in the districts of Kozhikode, Wayanad, Kannur, and Kasaragod.\n",
      "* The average wheat yield in Kerala is around 150-200 kg/ha (kilogram per hectare), which is relatively lower compared to other states in India.\n",
      "* The major wheat-producing states in Kerala are:\n",
      "\t+ Kozhikode: 30.9% of the state's total wheat production\n",
      "\t+ Wayanad: 24.4%\n",
      "\t+ Kannur: 20.5%\n",
      "\t+ Kasaragod: 14.2%\n",
      "\n",
      "**Crop Rate Details:**\n",
      "\n",
      "* Average sown area for wheat in Kerala is around 25,000 hectares.\n",
      "* The crop duration for wheat in Kerala is approximately 120-150 days.\n",
      "* The ideal temperature range for wheat growth in Kerala is between 10°C to 20°C.\n",
      "\n",
      "**Market Information:**\n",
      "\n",
      "* The average price of wheat in Kerala during the 2022-23 season ranged from ₹1,800 to ₹2,200 per tonne (1000 kg).\n",
      "* The major markets for wheat in Kerala are:\n",
      "\t+ Kozhikode\n",
      "\t+ Calicut\n",
      "\t+ Kannur\n",
      "\t+ Palakkad\n",
      "\n",
      "**Source:**\n",
      "\n",
      "These statistics and information are based on data available up to December 2023 from the following sources:\n",
      "\n",
      "1. Department of Agriculture, Cooperation and Farmers Welfare, Government of India.\n",
      "2. Kerala State Agricultural Department.\n",
      "3. National Agriculture Market Development Board (NAMDB).\n",
      "\n",
      "Please note that the actual crop rates, prices, and market trends may have changed since my knowledge cutoff date."
     ]
    }
   ],
   "source": [
    "for token in llm.stream(messages):\n",
    "    print(token.content,end=\"\")"
   ]
  },
  {
   "cell_type": "code",
   "execution_count": 32,
   "id": "042af71f",
   "metadata": {},
   "outputs": [
    {
     "name": "stdout",
     "output_type": "stream",
     "text": [
      "successfully loaded 53 documents\n"
     ]
    }
   ],
   "source": [
    "import json\n",
    "from langchain_core.documents import Document\n",
    "\n",
    "file_path = \"C:\\\\krishisahayi\\\\lang-chain-bot\\\\data\\\\scraped_chunks.json\"\n",
    "\n",
    "with open(file_path, 'r') as f:\n",
    "    json_data = json.load(f)\n",
    "\n",
    "docs=[\n",
    "    Document(\n",
    "        page_content=item['page_content'],\n",
    "        metadata=item['metadata']\n",
    "    )\n",
    "    for item in json_data\n",
    "]\n",
    "\n",
    "print(f\"successfully loaded {len(docs)} documents\")"
   ]
  },
  {
   "cell_type": "markdown",
   "id": "a4322713",
   "metadata": {},
   "source": [
    "## splitting"
   ]
  },
  {
   "cell_type": "code",
   "execution_count": 33,
   "id": "d0e79b7f",
   "metadata": {},
   "outputs": [
    {
     "data": {
      "text/plain": [
       "89"
      ]
     },
     "execution_count": 33,
     "metadata": {},
     "output_type": "execute_result"
    }
   ],
   "source": [
    "from langchain_text_splitters import RecursiveCharacterTextSplitter\n",
    "\n",
    "text_splitter = RecursiveCharacterTextSplitter(\n",
    "    chunk_size=1000 , chunk_overlap=200, add_start_index=True\n",
    ")\n",
    "\n",
    "all_splits = text_splitter.split_documents(docs)\n",
    "\n",
    "len(all_splits)"
   ]
  },
  {
   "cell_type": "markdown",
   "id": "246232c8",
   "metadata": {},
   "source": [
    "## embeddings "
   ]
  },
  {
   "cell_type": "code",
   "execution_count": null,
   "id": "6dcb2431",
   "metadata": {},
   "outputs": [],
   "source": [
    "from langchain"
   ]
  }
 ],
 "metadata": {
  "kernelspec": {
   "display_name": "Python 3.10 (py310)",
   "language": "python",
   "name": "py310"
  },
  "language_info": {
   "codemirror_mode": {
    "name": "ipython",
    "version": 3
   },
   "file_extension": ".py",
   "mimetype": "text/x-python",
   "name": "python",
   "nbconvert_exporter": "python",
   "pygments_lexer": "ipython3",
   "version": "3.10.18"
  }
 },
 "nbformat": 4,
 "nbformat_minor": 5
}
