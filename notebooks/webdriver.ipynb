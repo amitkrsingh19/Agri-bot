{
 "cells": [
  {
   "cell_type": "code",
   "execution_count": 2,
   "id": "fb8a1c3b",
   "metadata": {},
   "outputs": [],
   "source": [
    "from selenium import webdriver\n",
    "#open the web browser\n",
    "driver = webdriver.Chrome()\n",
    "# check the request\n",
    "driver.get('https://selenium.dev/')\n",
    "driver.quit()"
   ]
  },
  {
   "cell_type": "code",
   "execution_count": null,
   "id": "b404e3fb",
   "metadata": {},
   "outputs": [],
   "source": [
    "from \n",
    "driver = webdriver.Chrome()\n",
    "# check the request\n",
    "driver.get('https://selenium.dev/')\n",
    "driver.quit()"
   ]
  },
  {
   "cell_type": "code",
   "execution_count": 12,
   "id": "7d804e2c",
   "metadata": {},
   "outputs": [
    {
     "name": "stderr",
     "output_type": "stream",
     "text": [
      "usage: ipykernel_launcher.py [-h] [-v] [-q] [--locals] [-f] [-c] [-b]\n",
      "                             [-k TESTNAMEPATTERNS]\n",
      "                             [tests ...]\n",
      "ipykernel_launcher.py: error: argument -f/--failfast: ignored explicit argument 'c:\\\\Users\\\\Amit\\\\AppData\\\\Roaming\\\\jupyter\\\\runtime\\\\kernel-v3f566d438025ce023b81d0ed03e325d4e89f6e64e.json'\n"
     ]
    },
    {
     "ename": "SystemExit",
     "evalue": "2",
     "output_type": "error",
     "traceback": [
      "An exception has occurred, use %tb to see the full traceback.\n",
      "\u001b[1;31mSystemExit\u001b[0m\u001b[1;31m:\u001b[0m 2\n"
     ]
    }
   ],
   "source": [
    "import unittest\n",
    "from selenium import webdriver\n",
    "\n",
    "\n",
    "class GoogleTestCase(unittest.TestCase):\n",
    "\n",
    "    def setUp(self):\n",
    "        self.driver = webdriver.Firefox()\n",
    "        self.addCleanup(self.driver.quit)\n",
    "\n",
    "    def test_page_title(self):\n",
    "        self.driver.get('https://www.google.com')\n",
    "        self.assertIn('Google', self.driver.title)\n",
    "\n",
    "if __name__ == '__main__':\n",
    "    unittest.main(verbosity=2)"
   ]
  }
 ],
 "metadata": {
  "kernelspec": {
   "display_name": "Python 3.10 (py310)",
   "language": "python",
   "name": "py310"
  },
  "language_info": {
   "codemirror_mode": {
    "name": "ipython",
    "version": 3
   },
   "file_extension": ".py",
   "mimetype": "text/x-python",
   "name": "python",
   "nbconvert_exporter": "python",
   "pygments_lexer": "ipython3",
   "version": "3.10.18"
  }
 },
 "nbformat": 4,
 "nbformat_minor": 5
}
